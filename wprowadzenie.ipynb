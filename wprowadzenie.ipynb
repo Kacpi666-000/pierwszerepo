{
  "nbformat": 4,
  "nbformat_minor": 0,
  "metadata": {
    "colab": {
      "provenance": [],
      "toc_visible": true,
      "authorship_tag": "ABX9TyOlM+9wmcIQvgqjcMsrKsa0",
      "include_colab_link": true
    },
    "kernelspec": {
      "name": "python3",
      "display_name": "Python 3"
    },
    "language_info": {
      "name": "python"
    }
  },
  "cells": [
    {
      "cell_type": "markdown",
      "metadata": {
        "id": "view-in-github",
        "colab_type": "text"
      },
      "source": [
        "<a href=\"https://colab.research.google.com/github/Kacpi666-000/pierwszerepo/blob/main/wprowadzenie.ipynb\" target=\"_parent\"><img src=\"https://colab.research.google.com/assets/colab-badge.svg\" alt=\"Open In Colab\"/></a>"
      ]
    },
    {
      "cell_type": "markdown",
      "source": [
        "# **Podstawowe elementy języka Python**\n",
        "\n",
        "# Omawiane elementy\n",
        "\n",
        "---\n",
        "\n",
        "1.   Zmienne\n",
        "\n",
        "---\n",
        "\n",
        "2.   Listy\n",
        "\n",
        "---\n",
        "\n",
        "3.   Pętle\n",
        "\n",
        "---\n",
        "\n",
        "4.   Słowniki i krotki\n",
        "\n",
        "---\n",
        "5.   Instrukcje warunkowe\n",
        "\n",
        "---\n",
        "6.   Funkcje\n",
        "\n",
        "---\n",
        "7.   Obsługa plików\n",
        "\n",
        "---\n",
        "8.   Obsługa wyjątków\n",
        "\n",
        "---"
      ],
      "metadata": {
        "id": "gi7LyMDIsNgc"
      }
    },
    {
      "cell_type": "code",
      "source": [
        "imie = \"Kacper\"\n",
        "wiek = 12\n",
        "czy_peunoletni = False"
      ],
      "metadata": {
        "id": "lLqnGlwK4cKF"
      },
      "execution_count": 16,
      "outputs": []
    },
    {
      "cell_type": "code",
      "source": [
        "print(f\"{imie} ma {wiek} lat\")"
      ],
      "metadata": {
        "colab": {
          "base_uri": "https://localhost:8080/"
        },
        "id": "PaRZKze14hPY",
        "outputId": "56db780f-9e56-433d-dd56-809bdd9f7dc4"
      },
      "execution_count": 17,
      "outputs": [
        {
          "output_type": "stream",
          "name": "stdout",
          "text": [
            "Kacper ma 12 lat\n"
          ]
        }
      ]
    },
    {
      "cell_type": "code",
      "source": [
        "print(type(imie))"
      ],
      "metadata": {
        "colab": {
          "base_uri": "https://localhost:8080/"
        },
        "id": "Hxi4BlyA4wCm",
        "outputId": "fbb21e46-a729-4ba8-c0f6-574c7877a0e3"
      },
      "execution_count": 18,
      "outputs": [
        {
          "output_type": "stream",
          "name": "stdout",
          "text": [
            "<class 'str'>\n"
          ]
        }
      ]
    },
    {
      "cell_type": "code",
      "source": [
        "oceny = [4, 1, 3, 2, 5, 6]"
      ],
      "metadata": {
        "id": "smfvpVKO42K9"
      },
      "execution_count": 23,
      "outputs": []
    },
    {
      "cell_type": "code",
      "source": [
        "print(oceny)"
      ],
      "metadata": {
        "colab": {
          "base_uri": "https://localhost:8080/"
        },
        "id": "D3HJX2Be4_he",
        "outputId": "3c0115cb-9cc1-4dae-e952-b4161f183ee4"
      },
      "execution_count": 24,
      "outputs": [
        {
          "output_type": "stream",
          "name": "stdout",
          "text": [
            "[4, 1, 3, 2, 5, 6]\n"
          ]
        }
      ]
    },
    {
      "cell_type": "code",
      "source": [
        "print(oceny[3])\n",
        "oceny.append(5)\n",
        "print(oceny)"
      ],
      "metadata": {
        "colab": {
          "base_uri": "https://localhost:8080/"
        },
        "id": "zMmkK89I5eKG",
        "outputId": "cf41814f-7d15-4578-c5ff-51fc3315d2fd"
      },
      "execution_count": 25,
      "outputs": [
        {
          "output_type": "stream",
          "name": "stdout",
          "text": [
            "2\n",
            "[4, 1, 3, 2, 5, 6, 5]\n"
          ]
        }
      ]
    },
    {
      "cell_type": "code",
      "source": [
        "for x in range(0, 19):\n",
        "  print(\"Hello\")"
      ],
      "metadata": {
        "colab": {
          "base_uri": "https://localhost:8080/"
        },
        "id": "rl14Cho85nJu",
        "outputId": "52adb1c8-a8f7-4a10-b29e-e61c94260090"
      },
      "execution_count": 26,
      "outputs": [
        {
          "output_type": "stream",
          "name": "stdout",
          "text": [
            "Hello\n",
            "Hello\n",
            "Hello\n",
            "Hello\n",
            "Hello\n",
            "Hello\n",
            "Hello\n",
            "Hello\n",
            "Hello\n",
            "Hello\n",
            "Hello\n",
            "Hello\n",
            "Hello\n",
            "Hello\n",
            "Hello\n",
            "Hello\n",
            "Hello\n",
            "Hello\n",
            "Hello\n"
          ]
        }
      ]
    },
    {
      "cell_type": "code",
      "source": [
        "x = 0\n",
        "\n",
        "while x < 10:\n",
        "  print(x)\n",
        "  x += 1"
      ],
      "metadata": {
        "colab": {
          "base_uri": "https://localhost:8080/"
        },
        "id": "HeYDeA5V5v9O",
        "outputId": "59aece24-929d-4eba-e1ed-189f6a2e5fbb"
      },
      "execution_count": 27,
      "outputs": [
        {
          "output_type": "stream",
          "name": "stdout",
          "text": [
            "0\n",
            "1\n",
            "2\n",
            "3\n",
            "4\n",
            "5\n",
            "6\n",
            "7\n",
            "8\n",
            "9\n"
          ]
        }
      ]
    },
    {
      "cell_type": "code",
      "source": [
        "slownik = {\n",
        "    \"kot\": \"cat\",\n",
        "    \"pies\": \"dog\",\n",
        "    \"waz\": \"snake\"\n",
        "}\n",
        "print(slownik)"
      ],
      "metadata": {
        "colab": {
          "base_uri": "https://localhost:8080/"
        },
        "id": "3FB_LUix6KK1",
        "outputId": "0d4db07c-3d3d-4f66-b0c9-d7b3be66373b"
      },
      "execution_count": 28,
      "outputs": [
        {
          "output_type": "stream",
          "name": "stdout",
          "text": [
            "{'kot': 'cat', 'pies': 'dog', 'waz': 'snake'}\n"
          ]
        }
      ]
    },
    {
      "cell_type": "code",
      "source": [
        "print(slownik.keys())\n",
        "print(\"____________\")\n",
        "print(slownik.values())"
      ],
      "metadata": {
        "colab": {
          "base_uri": "https://localhost:8080/"
        },
        "id": "RyJ4HcIR6cUg",
        "outputId": "e46f3582-f800-4c22-948b-a67392c1f329"
      },
      "execution_count": 29,
      "outputs": [
        {
          "output_type": "stream",
          "name": "stdout",
          "text": [
            "dict_keys(['kot', 'pies', 'waz'])\n",
            "____________\n",
            "dict_values(['cat', 'dog', 'snake'])\n"
          ]
        }
      ]
    },
    {
      "cell_type": "code",
      "source": [
        "wiek = 16\n",
        "\n",
        "if wiek > 18:\n",
        "  print(\"jest pelnoletni\")\n",
        "elif wiek == 18:\n",
        "  print(\"jest pelnoletni\")\n",
        "else:\n",
        "  print(\"nie jest pelnoletni\")"
      ],
      "metadata": {
        "colab": {
          "base_uri": "https://localhost:8080/"
        },
        "id": "bEnEfpP36oQW",
        "outputId": "ffec38d0-da6b-4ab2-978b-c6659b736fda"
      },
      "execution_count": 34,
      "outputs": [
        {
          "output_type": "stream",
          "name": "stdout",
          "text": [
            "nie jest pelnoletni\n"
          ]
        }
      ]
    },
    {
      "cell_type": "code",
      "source": [
        "!git add .\n",
        "!git commit -m \"dodano pliki w pythonie\"\n",
        "!git push origin main"
      ],
      "metadata": {
        "colab": {
          "base_uri": "https://localhost:8080/"
        },
        "id": "cxsG_R9X7Ms4",
        "outputId": "e026c580-e24e-481a-f6c1-7fa59a2f507f"
      },
      "execution_count": 36,
      "outputs": [
        {
          "output_type": "stream",
          "name": "stdout",
          "text": [
            "On branch main\n",
            "Your branch is up to date with 'origin/main'.\n",
            "\n",
            "nothing to commit, working tree clean\n",
            "Everything up-to-date\n"
          ]
        }
      ]
    }
  ]
}